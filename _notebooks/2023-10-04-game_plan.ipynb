{
 "cells": [
  {
   "cell_type": "markdown",
   "metadata": {},
   "source": [
    "---\n",
    "toc: false\n",
    "layout: post\n",
    "title: Game Plan\n",
    "description: Our plan for the game\n",
    "courses: { compsci: {week: 7 } }\n",
    "type: plans\n",
    "author: Gavin, John, Ian, and Matthew\n",
    "---"
   ]
  },
  {
   "cell_type": "markdown",
   "metadata": {},
   "source": [
    "## The Idea\n",
    "- asdasdads"
   ]
  }
 ],
 "metadata": {
  "language_info": {
   "name": "python"
  },
  "orig_nbformat": 4
 },
 "nbformat": 4,
 "nbformat_minor": 2
}
