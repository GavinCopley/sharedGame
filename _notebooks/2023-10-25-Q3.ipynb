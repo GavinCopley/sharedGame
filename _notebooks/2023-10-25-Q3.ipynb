{
 "cells": [
  {
   "cell_type": "markdown",
   "metadata": {},
   "source": [
    "---\n",
    "toc: false\n",
    "comments: false\n",
    "layout: post\n",
    "title: Question 3\n",
    "description: Question 3 for Code Climbers\n",
    "---"
   ]
  },
  {
   "cell_type": "markdown",
   "metadata": {},
   "source": [
    "<html>\n",
    "<head>\n",
    "<style>\n",
    "    .summary {\n",
    "        color: black;\n",
    "        text-indent: 10px;\n",
    "        margin: 15px;\n",
    "        padding: 15px;\n",
    "    }\n",
    "</style>\n",
    "</head>\n",
    "<body>\n",
    "    <p><b>On lines 22 through 24, a div class is assigned to a print statement. What is going to be changed in the output?</b></p>\n",
    "    <hr>\n",
    "    <div class = \"summary\">\n",
    "        <ol>\n",
    "            <li><button id = \"Button\">Nothing, \".base\" is not defined in an html class to be printing anything.</button></li><br>\n",
    "            <li><button id = \"Button\">It'll print a solid border with 15 pixels by 15 pixels that doesn't adjust based on what size the text is.</button></li><br>\n",
    "            <li><button id = \"Button\">It'll change the text indenting by -10px, with a 1 pixel by 1 pixel shadow and make the color of that shadow white.</button></li><br>\n",
    "            <li><button id = \"Button\">It'll print answer (2) and answer (1) in that order since the \"base\" class is inside the \"buttons\" class.</button></li><br>\n",
    "        </ol>\n",
    "    </div>\n",
    "    <hr>\n",
    "</body>\n",
    "<script>\n",
    "</script>\n",
    "</html>"
   ]
  },
  {
   "cell_type": "code",
   "execution_count": null,
   "metadata": {},
   "outputs": [],
   "source": [
    "%%html\n",
    "%%css\n",
    "\n",
    "<html>\n",
    "<head>\n",
    "<style>\n",
    "    .base {\n",
    "        text-indent: 10px;\n",
    "        margin: 15px;\n",
    "        padding: 15px;\n",
    "        border-style: solid;\n",
    "    }\n",
    "    .buttons {\n",
    "        text-indent: -10px;\n",
    "        color: white;\n",
    "        text-shadow: 1px 1px;\n",
    "    }\n",
    "</style>\n",
    "</head>\n",
    "<body>\n",
    "    <h1> Important Notice: </h1> <hr> <br>\n",
    "    <div class = \"base\">\n",
    "        <p> This text is <b> really important,</b> its necessary in order to proceed...</p>\n",
    "    </div>\n",
    "    <br>\n",
    "    <div class = \"buttons\">\n",
    "        <!--Don't click it, it does nothing-->\n",
    "        <p> This is a button to know more: <button id = \"button1\"> Click here to learn more </button></p>\n",
    "    </div>\n",
    "</body>\n",
    "</html>"
   ]
  }
 ],
 "metadata": {
  "kernelspec": {
   "display_name": "Python 3",
   "language": "python",
   "name": "python3"
  },
  "language_info": {
   "codemirror_mode": {
    "name": "ipython",
    "version": 3
   },
   "file_extension": ".py",
   "mimetype": "text/x-python",
   "name": "python",
   "nbconvert_exporter": "python",
   "pygments_lexer": "ipython3",
   "version": "3.10.12"
  },
  "orig_nbformat": 4
 },
 "nbformat": 4,
 "nbformat_minor": 2
}
