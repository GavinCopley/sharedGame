{
 "cells": [
  {
   "attachments": {},
   "cell_type": "markdown",
   "metadata": {},
   "source": [
    "---\n",
    "comments: true\n",
    "layout: post\n",
    "title: Code Climbers Project Plan\n",
    "description: The idea is a mario type platformer but to unlock each level you must answer a computer science multiple choice quiz. Once completed, you can play the game and do whatever\n",
    "type: hacks\n",
    "courses: { compsci: {week: 0} }\n",
    "categories: [C4.1]\n",
    "---"
   ]
  },
  {
   "cell_type": "markdown",
   "metadata": {},
   "source": [
    "# Backgound\n",
    "A mario style platformer with aspects to teach computer programming (js, css, html)\n",
    "\n",
    "Initial concepts: \n",
    "\n",
    "- blank, menus and coding quizzes\n",
    "    - \n",
    "\n",
    "- blank  sprites\n",
    "    - backgrounds, characters, enemies\n",
    "    \n",
    "\n",
    "- blank create objects\n",
    "    - like walls, floors, other items like jetpack or wtv\n",
    "\n",
    "- blank everything else\n",
    "  - create story, ideas and code them so it works\n"
   ]
  },
  {
   "cell_type": "markdown",
   "metadata": {},
   "source": [
    "### Outline of Scenes\n",
    "\n",
    "Scene Design will be an ongoing process, as we enhance game play it is expected to have new ideas.  By splitting game up into parts it provides unique development opportunities to each individual.\n",
    "\n",
    "1. Game Intro (Map design of Game)\n",
    "2. Identity and Power Design\n",
    "3. Game Play, start with different options\n",
    "4. Note, each level could start with Character or Background and build up as code progresses\n",
    "\n",
    "```\n",
    "Character      Power            Map\n",
    "|---------|    |---------|    |----------|\n",
    "| Setup 1 |    | Setup 2 |    | Game Play|\n",
    "|  Pick   | -> |  Pick   | -> | Selection| -> Game Entry \n",
    "|Character|    |  Power  |    | Portal   |\n",
    "|---------|    |---------|    |----------|\n",
    "```\n",
    "\n",
    "#### Intro Screen\n",
    "\n",
    "O\n",
    "\n",
    "\n",
    "#### Player\n",
    "\n",
    "O\n",
    "\n",
    "\n",
    "#### Power\n",
    "\n",
    "O\n",
    "\n",
    "\n",
    "#### Game Entry\n",
    "T\n",
    "\n",
    "#### Game One Idea\n",
    "  - Jump on top of NPC platform characters for point reduction, refactor Goomba code for more appropriate character\n",
    "  - Add points to loop counter for collision with NPC character\n",
    "  - Have sticky or water hazards that delay progress, have Power/Force to free from trap \n",
    "  - Have a condition open up when counter gets to zero, use Power/Force to travel to and go through a portal to exit game level\n",
    "- Follow Mario code guildelines for ...\n",
    "  - platform\n",
    "  - rivers or sticky traps\n",
    "  - replace gombas with more appropriate character\n",
    "\n",
    "### Game Two Idea \n",
    "Complete coding MCs to unlock new cool things that are fun "
   ]
  },
  {
   "attachments": {},
   "cell_type": "markdown",
   "metadata": {},
   "source": [
    "## GitHub Pages Project\n",
    "[Coding Climbers repository](https://github.com/GavinCopley/sharedGame)"
   ]
  },
  {
   "attachments": {},
   "cell_type": "markdown",
   "metadata": {},
   "source": [
    "## Make a GitHub Pages Repository\n",
    "> Goto GitHub [Coding Climbers repository](https://github.com/GavinCopley/sharedGame)\n",
    "\n",
    "- Clone to your machine and get started with VSCode\n",
    "\n",
    "```bash\n",
    "$ cd vscode # work in vscode directory for consistency\n",
    "$ git clone https://github.com/jm1021/alienWorld.git \n",
    "$ cd alienWorld \n",
    "$ code . # open VSCode in project directory\n",
    "```"
   ]
  },
  {
   "cell_type": "code",
   "execution_count": null,
   "metadata": {
    "vscode": {
     "languageId": "plaintext"
    }
   },
   "outputs": [],
   "source": [
    "## Anatomy of repository\n",
    "The GitHub Pages repository is for Game and History of project.\n",
    "\n",
    "- index.md will be the game\n",
    "- _notebooks/Plan.ipynb contains this plan\n",
    "_ _posts/* contains daily meetings, hacks, and tangibles\n",
    "_ *.md contains links to other pages"
   ]
  }
 ],
 "metadata": {
  "kernelspec": {
   "display_name": "Python 3 (ipykernel)",
   "language": "python",
   "name": "python3"
  },
  "language_info": {
   "codemirror_mode": {
    "name": "ipython",
    "version": 3
   },
   "file_extension": ".py",
   "mimetype": "text/x-python",
   "name": "python",
   "nbconvert_exporter": "python",
   "pygments_lexer": "ipython3",
   "version": "3.9.12"
  }
 },
 "nbformat": 4,
 "nbformat_minor": 2
}
