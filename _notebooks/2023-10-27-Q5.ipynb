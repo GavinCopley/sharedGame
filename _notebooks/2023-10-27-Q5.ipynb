{
 "cells": [
  {
   "cell_type": "markdown",
   "metadata": {},
   "source": [
    "---\n",
    "toc: false\n",
    "comments: false\n",
    "layout: post\n",
    "title: Question 5\n",
    "description: Question 5 for Code Climbers\n",
    "---"
   ]
  },
  {
   "cell_type": "markdown",
   "metadata": {},
   "source": [
    "<html>\n",
    "<head>\n",
    "<style>\n",
    "    .summary {\n",
    "        color: black;\n",
    "        text-indent: 10px;\n",
    "        margin: 15px;\n",
    "        padding: 15px;\n",
    "    }\n",
    "</style>\n",
    "</head>\n",
    "<body>\n",
    "    <p><b> In this code, what is it suppose to do? </b></p>\n",
    "    <hr>\n",
    "    <div class = \"summary\">\n",
    "        <ol>\n",
    "            <li><button id = \"Button\"><a href =\"#\">Its a calculator that calculates a number or numbers based on a version</a></button></li><br>\n",
    "            <li><button id = \"Button\"><a href = \"#\">Its a calculator that only calculates 2 numbers, while the other version fails</a></button></li><br>\n",
    "            <li><button id = \"Button\"><a href = \"#\">Its a caulcator that only calculates 1 number, while the other verion fails</a></button></li><br>\n",
    "            <li><button id = \"Button\"><a href = \"#\">It's a calculator that does none of the above, and only shows the \"simple\" input</a></button></li><br>\n",
    "        </ol>\n",
    "    </div>\n",
    "    <hr>\n",
    "</body>\n",
    "</html>"
   ]
  },
  {
   "cell_type": "code",
   "execution_count": 56,
   "metadata": {},
   "outputs": [],
   "source": [
    "simple = input(\"version 1 or 2? (answer in a number)\")\n",
    "\n",
    "if simple == '1':\n",
    "    input1 = input(\"Enter the 1st number:\")\n",
    "    input2 = input(\"Enter the 2nd number:\")\n",
    "    input3 = input(\"Enter the symbol\")\n",
    "\n",
    "    if input3 == '+':\n",
    "        input4 = int(input1) + int(input2)\n",
    "        print(input4)\n",
    "\n",
    "    elif input3 == '-':\n",
    "        input4 = int(input1) - int(input2)\n",
    "        print(input4)\n",
    "\n",
    "    elif input3 == '/':\n",
    "        input4 = int(input1) / int(input2)\n",
    "        print(float(input4))\n",
    "\n",
    "    elif input3 == '*':\n",
    "        input4 = int(input1) * int(input2)\n",
    "        print(input4)\n",
    "\n",
    "    elif input3 == '^' or '**':\n",
    "        input4 = int(input1) ** int(input2)\n",
    "        print(input4)\n",
    "\n",
    "    else:\n",
    "        print(\"Thats not in the calculator\")\n",
    "\n",
    "if simple == '2':\n",
    "    input1 = input(\"Enter the 1st number:\")\n",
    "    input2 = input(\"Enter the symbol\")\n",
    "\n",
    "    if input2 == '^' or '**':\n",
    "        input4 = int(input1) ** (2)\n",
    "        print(input4)\n",
    "\n",
    "    elif input2 == '^3' or '**3':\n",
    "        input4 = int(input1) ** (3)\n",
    "        print(input4)"
   ]
  }
 ],
 "metadata": {
  "kernelspec": {
   "display_name": "Python 3",
   "language": "python",
   "name": "python3"
  },
  "language_info": {
   "codemirror_mode": {
    "name": "ipython",
    "version": 3
   },
   "file_extension": ".py",
   "mimetype": "text/x-python",
   "name": "python",
   "nbconvert_exporter": "python",
   "pygments_lexer": "ipython3",
   "version": "3.10.12"
  },
  "orig_nbformat": 4
 },
 "nbformat": 4,
 "nbformat_minor": 2
}
