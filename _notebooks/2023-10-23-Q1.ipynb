{
 "cells": [
  {
   "cell_type": "markdown",
   "metadata": {},
   "source": [
    "---\n",
    "toc: false\n",
    "comments: false\n",
    "layout: post\n",
    "title: Question 1\n",
    "description: Question 1 for Code Climbers\n",
    "---"
   ]
  },
  {
   "cell_type": "markdown",
   "metadata": {},
   "source": [
    "<html>\n",
    "<head>\n",
    "<style>\n",
    "    .summary {\n",
    "        color: black;\n",
    "        margin: 15px;\n",
    "        padding: 15px;\n",
    "    }\n",
    "</style>\n",
    "<script src=\"https://ajax.googleapis.com/ajax/libs/jquery/3.6.3/jquery.min.js\"></script>\n",
    "</head>\n",
    "<body>\n",
    "    <p><b>In this code, what is the expected output?:</b></p>\n",
    "    <hr>\n",
    "    <div class = \"summary\">\n",
    "        <ol>\n",
    "            <li><a href = \"https://gavincopley.github.io/sharedGame/2023/10/24/Q2_IPYNB_2_.html\"><button id = \"Button1\"> Prints: Hello World </a></button></li><br>\n",
    "            <li><a href = \"https://www.youtube.com/watch?v=FRpq7o1mKXY\"><button id = \"Button1\"> Prints Nothing: Stores it into the computer </a></button></li><br>\n",
    "            <li><a href = \"https://www.youtube.com/watch?v=FRpq7o1mKXY\"><button id = \"Button1\"> Prints Nothing: program runs but doesn't understand the code </a></button></li><br>\n",
    "            <li><a href = \"https://www.youtube.com/watch?v=FRpq7o1mKXY\"><button id= \"Button1\"> Runs an Error </a></button></li><br>\n",
    "        </ol>\n",
    "    </div>\n",
    "    <hr>\n",
    "</body>\n",
    "</html>"
   ]
  },
  {
   "cell_type": "code",
   "execution_count": null,
   "metadata": {},
   "outputs": [],
   "source": [
    "%%html\n",
    "<html>\n",
    "<head>\n",
    "    <title></title>\n",
    "</head>\n",
    "<body>\n",
    "    <p> Hello World </p>\n",
    "</body>\n",
    "</html>"
   ]
  }
 ],
 "metadata": {
  "kernelspec": {
   "display_name": "Python 3",
   "language": "python",
   "name": "python3"
  },
  "language_info": {
   "codemirror_mode": {
    "name": "ipython",
    "version": 3
   },
   "file_extension": ".py",
   "mimetype": "text/x-python",
   "name": "python",
   "nbconvert_exporter": "python",
   "pygments_lexer": "ipython3",
   "version": "3.10.12"
  },
  "orig_nbformat": 4
 },
 "nbformat": 4,
 "nbformat_minor": 2
}
