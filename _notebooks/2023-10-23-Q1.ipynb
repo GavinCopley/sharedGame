{
 "cells": [
  {
   "cell_type": "markdown",
   "metadata": {},
   "source": [
    "---\n",
    "toc: false\n",
    "comments: false\n",
    "layout: post\n",
    "title: Question 1\n",
    "description: Question 1 for Code Climbers\n",
    "---"
   ]
  },
  {
   "cell_type": "markdown",
   "metadata": {},
   "source": [
    "<html>\n",
    "<head>\n",
    "</head>\n",
    "<body>\n",
    "    <p><b>In this code, what is the expected output?:</b></p>\n",
    "    <hr><br>\n",
    "    <p> print(\"hello world\") </p><hr>\n",
    "    <button id = \"myButton1\"> 1: Prints: hello world </button>\n",
    "    <button id = \"myButton2\"> 2: prints: \"hello world\" </button>\n",
    "    <button id = \"myButton3\"> 3: Prints nothing </button>\n",
    "    <button id = \"myButton4\"> 3: Doesn't print cause of an error </button>\n",
    "</body>\n",
    "</html>"
   ]
  }
 ],
 "metadata": {
  "kernelspec": {
   "display_name": "Python 3",
   "language": "python",
   "name": "python3"
  },
  "language_info": {
   "name": "python",
   "version": "3.10.12"
  },
  "orig_nbformat": 4
 },
 "nbformat": 4,
 "nbformat_minor": 2
}
