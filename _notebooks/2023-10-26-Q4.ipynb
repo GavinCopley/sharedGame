{
 "cells": [
  {
   "cell_type": "markdown",
   "metadata": {},
   "source": [
    "---\n",
    "toc: false\n",
    "comments: false\n",
    "layout: post\n",
    "title: Question 4\n",
    "description: Question 4 for Code Climbers\n",
    "---"
   ]
  },
  {
   "cell_type": "markdown",
   "metadata": {},
   "source": [
    "<html>\n",
    "<head>\n",
    "<style>\n",
    "    .summary {\n",
    "        color: black;\n",
    "        text-indent: 10px;\n",
    "        margin: 15px;\n",
    "        padding: 15px;\n",
    "    }\n",
    "</style>\n",
    "</head>\n",
    "<body>\n",
    "    <p><b>What is the expected output of the button?</b></p>\n",
    "    <hr>\n",
    "    <div class = \"summary\">\n",
    "        <ol>\n",
    "            <li><button id = \"Button\">Nothing would happen</button></li><br>\n",
    "            <li><button id = \"Button\">It'll link towards \"myplan\" whenever you click on it, and run both the css code that is assigned to the button.</button></li><br>\n",
    "            <li><button id = \"Button\">It'll link towards \"myplan\" whenever you click on it, and wont be able to run both the css code that is assigned to the button.</button></li><br>\n",
    "            <li><button id = \"Button\">It wont link towards \"myplan\" whenever you click on it, but will be able to run both the css code that is assigned to the button.</button></li><br>\n",
    "        </ol>\n",
    "    </div>\n",
    "    <hr>\n",
    "</body>\n",
    "</html>"
   ]
  },
  {
   "cell_type": "code",
   "execution_count": null,
   "metadata": {},
   "outputs": [],
   "source": [
    "%%html\n",
    "\n",
    "<html>\n",
    "<head>\n",
    "<style>\n",
    "    .chill {\n",
    "        border: 2px solid black;\n",
    "        border-style: solid;\n",
    "        padding: 14px 28px;\n",
    "        font-size: 16px;\n",
    "    }\n",
    "\n",
    "    .styled {\n",
    "        text-indent: 0px;\n",
    "        color: black;\n",
    "        text-shadow: 1px 1px;\n",
    "    }\n",
    "</style>\n",
    "</head>\n",
    "<body>\n",
    "    <h2><b> this is my website!!! </b></h2> <hr>\n",
    "\n",
    "    <p> my website is very cool to the human eye, nobody can compare to it </p>\n",
    "    \n",
    "    <u> This is what my website includes: </u>\n",
    "\n",
    "    <ol>\n",
    "        <li> <b> VERY </b> cool features </li>\n",
    "        <li> <b> AWESOME </b> styles and animation </li>\n",
    "        <li> <b> COOL </b> lists like <u> This </u> </li>\n",
    "        <li> <b> EXTREME </b> mechanics to <u> comprehend </u> </li>\n",
    "    </ol>\n",
    "\n",
    "    <button id = \"chill styled\"><a href = \"https://myplan.powayusd.com\"> INFO </a></button>\n",
    "</body>\n",
    "</html>"
   ]
  }
 ],
 "metadata": {
  "kernelspec": {
   "display_name": "Python 3",
   "language": "python",
   "name": "python3"
  },
  "language_info": {
   "codemirror_mode": {
    "name": "ipython",
    "version": 3
   },
   "file_extension": ".py",
   "mimetype": "text/x-python",
   "name": "python",
   "nbconvert_exporter": "python",
   "pygments_lexer": "ipython3",
   "version": "3.10.12"
  },
  "orig_nbformat": 4
 },
 "nbformat": 4,
 "nbformat_minor": 2
}
