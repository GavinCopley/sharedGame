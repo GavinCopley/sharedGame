{
 "cells": [
  {
   "cell_type": "markdown",
   "metadata": {},
   "source": [
    "---\n",
    "toc: false\n",
    "comments: false\n",
    "layout: post\n",
    "title: Question 2\n",
    "description: Question 2 for Code Climbers\n",
    "---"
   ]
  },
  {
   "cell_type": "markdown",
   "metadata": {},
   "source": [
    "<html>\n",
    "<head>\n",
    "<style>\n",
    "    .summary {\n",
    "        color: black;\n",
    "        text-indent: 10px;\n",
    "        margin: 15px;\n",
    "        padding: 15px;\n",
    "    }\n",
    "</style>\n",
    "</head>\n",
    "<body>\n",
    "    <p><b>This code is suppose to direct you to a link with a link and a button meshed together. Would this code work? Why or why not?</b></p>\n",
    "    <hr>\n",
    "    <div class = \"summary\">\n",
    "        <ol>\n",
    "            <li><button id = \"Button\"><a href=\"https://www.youtube.com/watch?v=FRpq7o1mKXY\"> It doesn't work because it isn't possible to combine 2 properties into 1, they have to be defined.</a></button></li><br>\n",
    "            <li><button id = \"Button\"><a href=\"https://gavincopley.github.io/sharedGame/2023/10/25/Q3_IPYNB_2_.html\"> It does work because the link properties are inside the button property, making the link go inside the button.</a></button></li><br>\n",
    "            <li><button id = \"Button\"><a href=\"https://www.youtube.com/watch?v=FRpq7o1mKXY\"> It doesn't work because there is an error before the previous code, which causes the button and link to not function</a></button></li><br>\n",
    "            <li><button id= \"Button\"><a href=\"https://gavincopley.github.io/sharedGame/2023/10/25/Q3_IPYNB_2_.html\">It does work because the structures formatting for HTML is correct. However the button would be separate from the link because of how button properties work.</a></button></li><br>\n",
    "        </ol>\n",
    "    </div>\n",
    "    <hr>\n",
    "</body>\n",
    "<script>\n",
    "</script>\n",
    "</html>"
   ]
  },
  {
   "cell_type": "code",
   "execution_count": null,
   "metadata": {},
   "outputs": [],
   "source": [
    "%%html\n",
    "<html>\n",
    "<head>\n",
    "    <title></title>\n",
    "</head>\n",
    "<body>\n",
    "    <h2> This is a link to my webiste: </h2>\n",
    "    <h3><b> click down below </b></h3>\n",
    "    <button id = \"Website\"><a href = \"https://gavincopley.github.io/sharedGames/blogs/\"> Click Here </button></a>\n",
    "</body>\n",
    "</html>"
   ]
  }
 ],
 "metadata": {
  "kernelspec": {
   "display_name": "Python 3",
   "language": "python",
   "name": "python3"
  },
  "language_info": {
   "codemirror_mode": {
    "name": "ipython",
    "version": 3
   },
   "file_extension": ".py",
   "mimetype": "text/x-python",
   "name": "python",
   "nbconvert_exporter": "python",
   "pygments_lexer": "ipython3",
   "version": "3.10.12"
  },
  "orig_nbformat": 4
 },
 "nbformat": 4,
 "nbformat_minor": 2
}
