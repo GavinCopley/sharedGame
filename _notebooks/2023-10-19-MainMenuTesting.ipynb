{
 "cells": [
  {
   "cell_type": "markdown",
   "metadata": {},
   "source": [
    "---\n",
    "toc: true\n",
    "comments: true\n",
    "layout: post\n",
    "title: Game Homepage Testing\n",
    "description: Game Homepage Test\n",
    "type: hacks\n",
    "courses: { compsci: {week: 3} }\n",
    "categories: [C1.4]\n",
    "---"
   ]
  },
  {
   "cell_type": "code",
   "execution_count": null,
   "metadata": {
    "vscode": {
     "languageId": "html"
    }
   },
   "outputs": [],
   "source": [
    "<!DOCTYPE html>\n",
    "<html>\n",
    "<head>\n",
    "    <title>Homepage</title>\n",
    "    <style>\n",
    "        body {\n",
    "            background-color: black; /* Set the background color to black */\n",
    "            color: white; /* Set the text color to white */\n",
    "        }\n",
    "\n",
    "        .menu a {\n",
    "            color: white; /* Set the link text color to white */\n",
    "            text-decoration: none; /* Remove the underline from links */\n",
    "        }\n",
    "\n",
    "        .menu a:hover {\n",
    "            text-decoration: underline; /* Add underline on hover (optional) */\n",
    "        }\n",
    "    </style>\n",
    "</head>\n",
    "<body>\n",
    "    <IdealMainPage1 class=\"png\"></IdealMainPage1>\n",
    "    <div class=\"menu links\">\n",
    "        <a href=\"https://gavincopley.github.io/sharedGame/\">Play</a><br>\n",
    "        <a href=\"#\">Settings (WIP)</a><br>\n",
    "        <a href=\"https://gavincopley.github.io/sharedGame/about/\">About</a><br>\n",
    "    </div>\n",
    "</body>\n",
    "</html>"
   ]
  },
  {
   "cell_type": "markdown",
   "metadata": {},
   "source": [
    "<!DOCTYPE html>\n",
    "<html>\n",
    "<head>\n",
    "    <title>Homepage</title>\n",
    "    <style>\n",
    "        body {\n",
    "            background-color: black; /* Set the background color to black */\n",
    "            color: white; /* Set the text color to white */\n",
    "        }\n",
    "\n",
    "        .menu a {\n",
    "            color: white; /* Set the link text color to white */\n",
    "            text-decoration: none; /* Remove the underline from links */\n",
    "        }\n",
    "\n",
    "        .menu a:hover {\n",
    "            text-decoration: underline; /* Add underline on hover (optional) */\n",
    "        }\n",
    "    </style>\n",
    "</head>\n",
    "<body>\n",
    "    <IdealMainPage1 class=\"png\"></IdealMainPage1>\n",
    "    <div class=\"menu links\">\n",
    "        <a href=\"https://gavincopley.github.io/sharedGame/\">Play</a><br>\n",
    "        <a href=\"#\">Settings (WIP)</a><br>\n",
    "        <a href=\"https://gavincopley.github.io/sharedGame/about/\">About</a><br>\n",
    "    </div>\n",
    "</body>\n",
    "</html>"
   ]
  }
 ],
 "metadata": {
  "kernelspec": {
   "display_name": "Python 3",
   "language": "python",
   "name": "python3"
  },
  "language_info": {
   "codemirror_mode": {
    "name": "ipython",
    "version": 3
   },
   "file_extension": ".py",
   "mimetype": "text/x-python",
   "name": "python",
   "nbconvert_exporter": "python",
   "pygments_lexer": "ipython3",
   "version": "3.10.12"
  },
  "orig_nbformat": 4
 },
 "nbformat": 4,
 "nbformat_minor": 2
}
