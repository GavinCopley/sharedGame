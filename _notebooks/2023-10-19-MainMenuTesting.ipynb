{
 "cells": [
  {
   "cell_type": "markdown",
   "metadata": {},
   "source": [
    "---\n",
    "toc: true\n",
    "comments: true\n",
    "layout: post\n",
    "title: Game Homepage Testing\n",
    "description: Game Homepage Test\n",
    "type: hacks\n",
    "courses: { compsci: {week: 3} }\n",
    "categories: [C1.4]\n",
    "---"
   ]
  },
  {
   "cell_type": "markdown",
   "metadata": {},
   "source": [
    "<html>\n",
    "<head>\n",
    "    <title> Homepage </title>\n",
    "</head>\n",
    "<body>\n",
    "    <IdealMainPage1 class=\"png\"></IdealMainPage1>\n",
    "    <div class =\"menu links\">\n",
    "        <a href=\"https://gavincopley.github.io/sharedGame/\"> Play </a><br>\n",
    "        <a href=\"#\"> Settings (WIP)</a><br>\n",
    "        <a href=\"https://gavincopley.github.io/sharedGame/about/\"> About </a><br>\n",
    "    </div>\n",
    "</body>\n"
   ]
  }
 ],
 "metadata": {
  "language_info": {
   "name": "python"
  },
  "orig_nbformat": 4
 },
 "nbformat": 4,
 "nbformat_minor": 2
}
