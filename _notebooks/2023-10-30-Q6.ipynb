{
 "cells": [
  {
   "cell_type": "markdown",
   "metadata": {},
   "source": [
    "---\n",
    "toc: false\n",
    "comments: false\n",
    "layout: post\n",
    "title: Question 6\n",
    "description: Question 6 for Code Climbers\n",
    "---"
   ]
  },
  {
   "cell_type": "markdown",
   "metadata": {},
   "source": [
    "<html>\n",
    "<head>\n",
    "<style>\n",
    "    .summary {\n",
    "        color: black;\n",
    "        text-indent: 10px;\n",
    "        margin: 15px;\n",
    "        padding: 15px;\n",
    "    }\n",
    "</style>\n",
    "</head>\n",
    "<body>\n",
    "    <p><b>When clicked, would this code display \"I was clicked\" to the user?</b></p>\n",
    "    <hr>\n",
    "    <div class = \"summary\">\n",
    "        <ol>\n",
    "            <li><a href = \"#\"><button id = \"Button1\"> No because the javascript code doesn't directly connect towards any user input commands.</a></button></li><br>\n",
    "            <li><a href = \"#\"><button id = \"Button1\"> Yes because of the \"Event Listener\" that allows it to connect to user input.</a></button></li><br>\n",
    "        </ol>\n",
    "    </div>\n",
    "    <hr>\n",
    "</body>\n",
    "</html>"
   ]
  },
  {
   "cell_type": "code",
   "execution_count": null,
   "metadata": {},
   "outputs": [],
   "source": [
    "%%html\n",
    "<head>\n",
    "    <title>Document</title>\n",
    "</head>\n",
    "<body>\n",
    "    <button id = \"hello\"> Click here to learn MORE! </button>\n",
    "    <script>\n",
    "        let button = document.querySelector(\"hello\");\n",
    "        button.addEventListener(\"click\", function(){\n",
    "            button.innerHTML = \"I was clicked\"\n",
    "        });\n",
    "    </script>\n",
    "</body>\n",
    "</html>"
   ]
  }
 ],
 "metadata": {
  "kernelspec": {
   "display_name": "Python 3",
   "language": "python",
   "name": "python3"
  },
  "language_info": {
   "codemirror_mode": {
    "name": "ipython",
    "version": 3
   },
   "file_extension": ".py",
   "mimetype": "text/x-python",
   "name": "python",
   "nbconvert_exporter": "python",
   "pygments_lexer": "ipython3",
   "version": "3.10.12"
  },
  "orig_nbformat": 4
 },
 "nbformat": 4,
 "nbformat_minor": 2
}
