{
 "cells": [
  {
   "cell_type": "markdown",
   "metadata": {},
   "source": [
    "---\n",
    "toc: false\n",
    "comments: false\n",
    "layout: post\n",
    "title: Question 7\n",
    "description: Question 7 for Code Climbers\n",
    "---"
   ]
  },
  {
   "cell_type": "markdown",
   "metadata": {},
   "source": [
    "<html>\n",
    "<head>\n",
    "<style>\n",
    "    .summary {\n",
    "        color: black;\n",
    "        text-indent: 10px;\n",
    "        margin: 15px;\n",
    "        padding: 15px;\n",
    "    }\n",
    "</style>\n",
    "</head>\n",
    "<body>\n",
    "    <p><b>What will this code be able to do?</b></p>\n",
    "    <hr>\n",
    "    <div class = \"summary\">\n",
    "        <ol>\n",
    "            <li><a href = \"#\"><button id = \"Button1\">It'll be able to show, toggle, and hide a \"box\"</a></button></li><br>\n",
    "            <li><a href = \"#\"><button id = \"Button1\"> It'll be able to show, toggle, and hide the \"buttons\"</a></button></li><br>\n",
    "            <li><a href = \"#\"><button id = \"Button1\"> It'll be able to show, toggle, but not hide the \"box\"</a></button></li><br>\n",
    "            <li><a href = \"#\"><button id = \"Button1\"> It'll be able to show, toggle, but not hide the \"buttons\"</a></button></li><br>\n",
    "        </ol>\n",
    "    </div>\n",
    "    <hr>\n",
    "</body>\n",
    "</html>"
   ]
  },
  {
   "cell_type": "code",
   "execution_count": null,
   "metadata": {},
   "outputs": [],
   "source": [
    "%%html\n",
    "<html lang=\"en\">\n",
    "<head>\n",
    "    <meta charset=\"UTF-8\">\n",
    "    <meta http-equiv=\"X-UA-Compatible\" content=\"IE=edge\">\n",
    "    <meta name=\"viewport\" content=\"width=device-width, initial-scale=1.0\">\n",
    "    <title>Document</title>\n",
    "    <script src=\"https://ajax.googleapis.com/ajax/libs/jquery/3.6.3/jquery.min.js\"></script>\n",
    "    <style>\n",
    "        #box {\n",
    "            background-color: burlywood;\n",
    "            width: 200px;\n",
    "            height: 50px;\n",
    "        }\n",
    "    </style>\n",
    "</head>\n",
    "<body>\n",
    "    <!--HIDE, SHOW, TOGGLE COMMANDS-->\n",
    "    <button id=\"btn1\">Hide </button>\n",
    "    <button id=\"btn2\">Show </button>\n",
    "    <button id=\"btn3\">Toggle</button>\n",
    "    <div id=\"box\">!Hover OVER ME!</div>\n",
    "    <script>\n",
    "        $(document).ready(function(){\n",
    "            //TOGGLING VISIBILITY COMMANDS\n",
    "            $('#btn1').click(function() {\n",
    "                $('#box').hide();\n",
    "            });\n",
    "            $('#btn2').click(function() {\n",
    "                $('#box').show();\n",
    "            });\n",
    "            $('#btn3').click(function() {\n",
    "                $('#box').toggle();\n",
    "            });\n",
    "        });\n",
    "    </script>\n",
    "</body>\n",
    "</html>"
   ]
  }
 ],
 "metadata": {
  "kernelspec": {
   "display_name": "Python 3",
   "language": "python",
   "name": "python3"
  },
  "language_info": {
   "codemirror_mode": {
    "name": "ipython",
    "version": 3
   },
   "file_extension": ".py",
   "mimetype": "text/x-python",
   "name": "python",
   "nbconvert_exporter": "python",
   "pygments_lexer": "ipython3",
   "version": "3.10.12"
  },
  "orig_nbformat": 4
 },
 "nbformat": 4,
 "nbformat_minor": 2
}
