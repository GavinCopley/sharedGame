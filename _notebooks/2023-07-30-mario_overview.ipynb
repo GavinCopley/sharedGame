{
 "cells": [
  {
   "cell_type": "markdown",
   "metadata": {},
   "source": [
    "---\n",
    "toc: false\n",
    "layout: post\n",
    "title: JS Mario Game Overview\n",
    "description: Break down of components that could be used in Mario, or other game\n",
    "courses: { compsci: {week: 7} }\n",
    "type: hacks\n",
    "author: Nicholas Ramos and Samaya Sankuratri\n",
    "---\n"
   ]
  },
  {
   "cell_type": "markdown",
   "metadata": {},
   "source": [
    "{% include mario_nav.html %}\n",
    "\n",
    "## [Link to final game](https://samayass.github.io/mario1/levels/mario5)"
   ]
  },
  {
   "cell_type": "markdown",
   "metadata": {},
   "source": [
    "**Lesson Overview: Building a Mario-Inspired Platformer Game**\n",
    "In this comprehensive game development lesson, we will guide you through the step-by-step process of creating a Mario-inspired platformer game. The lesson is broken down into various components, each focusing on a specific aspect of game design and implementation. By the end of this lesson, you will have a functional and engaging platformer game featuring a player character, platforms, blocks, tubes, background, and enemies (Goombas). Let's dive into the components:\n",
    "\n",
    "**Component 1-Player: Setting Up the Canvas and Player Character**\n",
    "- Learn how to set up the game canvas using HTML and JavaScript.\n",
    "- Create the player character class with attributes like position, velocity, and dimensions.\n",
    "- Implement basic player movement and physics, including gravity and jumping.\n",
    "\n",
    "**Component 2-Platform: Designing Platforms and Collision Detection**\n",
    "- Design and draw platforms on the canvas.\n",
    "- Implement collision detection between the player character and platforms.\n",
    "- Enable the player to walk and jump on platforms while accounting for gravity.\n",
    "\n",
    "**Component 3-Tube: Transitioning with Tubes**\n",
    "- Render tubes that allow the player to transition between different areas.\n",
    "- Add an element of exploration and hidden secrets through tube connections (changing levels).\n",
    "\n",
    "**Component 4-Block: Interactive Blocks and Power-ups**\n",
    "- Introduce interactive blocks.\n",
    "- Develop a mechanism for the player to interact with blocks through collisions.\n",
    "\n",
    "**Component 5-Goomba: Implementing Enemies (Goombas)**\n",
    "- Introduce enemy characters (Goombas) that move horizontally across platforms.\n",
    "- Define enemy behavior, including collision interactions with the player character.\n",
    "- Create a system to defeat enemies through collision and jumping.\n",
    "\n",
    "**Component 6-Background: Creating a Dynamic Background**\n",
    "- Craft a visually appealing background that complements the game's theme.\n",
    "- Incorporate background elements that contribute to the game's atmosphere and aesthetics with parallax scrolling for a realistic effect.\n",
    "- Ensure that the background remains consistent as the player character moves across the level.\n",
    "\n",
    "\n",
    "\n",
    "By the end of this lesson, you'll have a well-rounded understanding of building a Mario-inspired platformer game from scratch. Each component will contribute to the overall gameplay experience, and you'll have the foundation to further customize and extend your game based on your creative ideas. Happy game development!"
   ]
  }
 ],
 "metadata": {
  "language_info": {
   "name": "python"
  },
  "orig_nbformat": 4
 },
 "nbformat": 4,
 "nbformat_minor": 2
}
